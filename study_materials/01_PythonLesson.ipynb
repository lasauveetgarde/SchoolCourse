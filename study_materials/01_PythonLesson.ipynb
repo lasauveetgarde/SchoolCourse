{
 "cells": [
  {
   "cell_type": "markdown",
   "metadata": {},
   "source": [
    "🤔**Задача 1: Вывести \"Hello, World!\"**"
   ]
  },
  {
   "cell_type": "code",
   "execution_count": null,
   "metadata": {},
   "outputs": [],
   "source": [
    "print(\"Hello, World!\")"
   ]
  },
  {
   "cell_type": "markdown",
   "metadata": {},
   "source": [
    "🤔**Задача 2: Создать переменную и вывести её значение**"
   ]
  },
  {
   "cell_type": "code",
   "execution_count": null,
   "metadata": {},
   "outputs": [],
   "source": [
    "x = 10\n",
    "print(x)"
   ]
  },
  {
   "cell_type": "markdown",
   "metadata": {},
   "source": [
    "🤔**Задача 3: Сложение и вычитание**"
   ]
  },
  {
   "cell_type": "code",
   "execution_count": null,
   "metadata": {},
   "outputs": [],
   "source": [
    "a = 5\n",
    "b = 3\n",
    "sum_result = a + b\n",
    "difference_result = a - b\n",
    "print(\"Sum:\", sum_result)\n",
    "print(\"Difference:\", difference_result)"
   ]
  },
  {
   "cell_type": "markdown",
   "metadata": {},
   "source": [
    "🤔**Задача 4: Умножение и деление**"
   ]
  },
  {
   "cell_type": "code",
   "execution_count": null,
   "metadata": {},
   "outputs": [],
   "source": [
    "c = 6\n",
    "d = 2\n",
    "product_result = c * d\n",
    "division_result = c / d\n",
    "print(\"Product:\", product_result)\n",
    "print(\"Division:\", division_result)"
   ]
  },
  {
   "cell_type": "markdown",
   "metadata": {},
   "source": [
    "🤔**Задача 5: Операторы сравнения**"
   ]
  },
  {
   "cell_type": "code",
   "execution_count": null,
   "metadata": {},
   "outputs": [],
   "source": [
    "e = 8\n",
    "f = 8\n",
    "greater_than = e > f\n",
    "less_than = e < f\n",
    "equal_to = e == f\n",
    "not_equal_to = e != f\n",
    "print(\"Greater:\", greater_than)\n",
    "print(\"Less:\", less_than)\n",
    "print(\"Equal:\", equal_to)\n",
    "print(\"Not equal:\", not_equal_to)"
   ]
  },
  {
   "cell_type": "markdown",
   "metadata": {},
   "source": [
    "🤔**Задача 6: Условный оператор if**"
   ]
  },
  {
   "cell_type": "code",
   "execution_count": null,
   "metadata": {},
   "outputs": [],
   "source": [
    "temperature = 25\n",
    "if temperature > 30:\n",
    "    print(\"Too hot\")\n",
    "elif temperature < 10:\n",
    "    print(\"Too cold\")\n",
    "else:\n",
    "    print(\"Normal weather\")"
   ]
  },
  {
   "cell_type": "markdown",
   "metadata": {},
   "source": [
    "🤔**Задача 7: Логические операторы**"
   ]
  },
  {
   "cell_type": "code",
   "execution_count": null,
   "metadata": {},
   "outputs": [],
   "source": [
    "is_sunny = True\n",
    "is_warm = True\n",
    "if is_sunny and is_warm:\n",
    "    print(\"Okey\")"
   ]
  },
  {
   "cell_type": "markdown",
   "metadata": {},
   "source": [
    "🤔**Задача 8: Типы данных**"
   ]
  },
  {
   "cell_type": "code",
   "execution_count": null,
   "metadata": {},
   "outputs": [],
   "source": [
    "name = \"John\"\n",
    "age = 30\n",
    "height = 1.75\n",
    "is_student = True\n",
    "\n",
    "print(type(name))  \n",
    "print(type(age))  \n",
    "print(type(height)) \n",
    "print(type(is_student))  "
   ]
  },
  {
   "cell_type": "markdown",
   "metadata": {},
   "source": [
    "🤔**Задача 9: Преобразование типов данных**"
   ]
  },
  {
   "cell_type": "code",
   "execution_count": null,
   "metadata": {},
   "outputs": [],
   "source": [
    "num_str = \"42\"\n",
    "num_int = int(num_str)\n",
    "print(\"Целое число из строки:\", num_int)"
   ]
  },
  {
   "cell_type": "markdown",
   "metadata": {},
   "source": [
    "🤔**Задача 10: Ввод данных от пользователя**"
   ]
  },
  {
   "cell_type": "code",
   "execution_count": null,
   "metadata": {},
   "outputs": [],
   "source": [
    "user_name = input(\"Enter your name: \")\n",
    "print(\"Hi, \" + user_name + \"!\")"
   ]
  },
  {
   "cell_type": "markdown",
   "metadata": {},
   "source": [
    "🤔**Напишите программу, которая проверяет, является ли введенный год високосным или нет.**\n",
    "\n",
    "❔ Для определения високосного года применяется следующее правило:\n",
    "\n",
    "1. Год, который делится на 4 без остатка, считается високосным.\n",
    "\n",
    "2. Однако, если год также делится на 100 без остатка, то он не является високосным.\n",
    "\n",
    "3. Если год делится на 400 без остатка, то он все равно считается високосным.\n",
    "\n",
    "Это правило устанавливает, что большинство годов являются високосными (например, 1996, 2004, 2012), но годы, делящиеся на 100, но не делящиеся на 400, не являются високосными (например, 1800, 1900). Тем не менее, годы, которые делятся на 400, все равно считаются високосными (например, 1600, 2000)."
   ]
  },
  {
   "cell_type": "code",
   "execution_count": null,
   "metadata": {},
   "outputs": [],
   "source": []
  },
  {
   "cell_type": "markdown",
   "metadata": {},
   "source": [
    "✅ **Циклы - это конструкции в программировании, которые позволяют выполнять один и тот же блок кода несколько раз. В Python существует два основных вида циклов: циклы for и циклы while.**\n",
    "\n",
    "**Циклы for в Python:**\n",
    "\n",
    "Циклы for используются для перебора элементов в последовательности, такой как список, кортеж, строка или диапазон чисел. Они выполняются заданное количество раз, в соответствии с числом элементов в последовательности. Вот пример:\n",
    "\n",
    "Напишите программу, которая считает и выводит сумму всех чисел от 1 до заданного пользователем числа N."
   ]
  },
  {
   "cell_type": "code",
   "execution_count": null,
   "metadata": {},
   "outputs": [],
   "source": [
    "# Пример 1: Цикл for для перебора элементов списка\n",
    "fruits = [\"яблоко\", \"банан\", \"апельсин\"]\n",
    "for fruit in fruits:\n",
    "    print(fruit)"
   ]
  },
  {
   "cell_type": "markdown",
   "metadata": {},
   "source": [
    "В этом примере цикл for перебирает элементы списка fruits и выводит каждый элемент на экран."
   ]
  },
  {
   "cell_type": "markdown",
   "metadata": {},
   "source": [
    "✅ **Циклы while в Python:**\n",
    "\n",
    "Циклы while выполняются до тех пор, пока заданное условие истинно. Они подходят, когда не известно заранее, сколько итераций будет выполнено. Вот пример:"
   ]
  },
  {
   "cell_type": "code",
   "execution_count": null,
   "metadata": {},
   "outputs": [],
   "source": [
    "# Пример 2: Цикл while для подсчета чисел от 1 до 5\n",
    "count = 1\n",
    "while count <= 5:\n",
    "    print(count)\n",
    "    count += 1"
   ]
  },
  {
   "cell_type": "markdown",
   "metadata": {},
   "source": [
    "В этом примере цикл while выполняется, пока count меньше или равно 5, и выводит числа от 1 до 5."
   ]
  },
  {
   "cell_type": "markdown",
   "metadata": {},
   "source": [
    "Циклы могут использоваться для множества задач, включая обработку элементов в списках, повторение операций, пока выполняется определенное условие, и многое другое. Важно правильно контролировать условия завершения цикла, чтобы избежать бесконечных циклов."
   ]
  },
  {
   "cell_type": "markdown",
   "metadata": {},
   "source": [
    "🤔**Напишите программу, которая считает и выводит сумму всех чисел от 1 до заданного пользователем числа N.**"
   ]
  },
  {
   "cell_type": "code",
   "execution_count": null,
   "metadata": {},
   "outputs": [],
   "source": []
  },
  {
   "cell_type": "markdown",
   "metadata": {},
   "source": [
    "🤔**Напишите программу, которая находит и выводит все простые числа в заданном диапазоне от M до N.**"
   ]
  },
  {
   "cell_type": "code",
   "execution_count": null,
   "metadata": {},
   "outputs": [],
   "source": []
  },
  {
   "cell_type": "markdown",
   "metadata": {},
   "source": [
    "🤔**Напишите программу, которая выводит первые N чисел Фибоначчи, где N - это число, введенное пользователем.**\n",
    "\n",
    "❔ Числа Фибоначчи - это последовательность чисел, начиная с 0 и 1, где каждое последующее число в последовательности равно сумме двух предыдущих чисел. Таким образом, последовательность чисел Фибоначчи начинается так:\n",
    "\n",
    "0, 1, 1, 2, 3, 5, 8, 13, 21, 34, и так далее...\n",
    "\n",
    "Формально, числа Фибоначчи можно определить следующим образом:\n",
    "\n",
    "F(0) = 0\n",
    "F(1) = 1\n",
    "F(n) = F(n-1) + F(n-2) для n > 1\n",
    "\n",
    "Это рекурсивное определение означает, что каждое число Фибоначчи равно сумме двух предыдущих чисел в последовательности. Например, F(2) = F(1) + F(0) = 1 + 0 = 1, F(3) = F(2) + F(1) = 1 + 1 = 2, и так далее."
   ]
  },
  {
   "cell_type": "code",
   "execution_count": null,
   "metadata": {},
   "outputs": [],
   "source": []
  },
  {
   "cell_type": "markdown",
   "metadata": {},
   "source": [
    "🤔**Реализуйте алгоритм сортировки пузырьком для сортировки списка чисел, который пользователь вводит.**\n",
    "\n",
    "❔Сортировка пузырьком (Bubble Sort) - это один из простых алгоритмов сортировки, который применяется для упорядочивания элементов списка чисел или других данных. Он получил свое название из-за характерного поведения элементов списка, когда они \"всплывают\" или \"проваливаются\" в нужные позиции, как пузырьки воды.\n",
    "\n",
    "Принцип сортировки пузырьком:\n",
    "\n",
    "Алгоритм начинает сравнивать первые два элемента списка и меняет их местами, если первый элемент больше второго.\n",
    "\n",
    "Затем он переходит к следующей паре элементов и продолжает сравнивать их, меняя местами, если это необходимо. Этот процесс повторяется по всему списку до тех пор, пока при одном проходе не происходит ни одной замены.\n",
    "\n",
    "После первого прохода наибольший элемент перемещается в конец списка, и алгоритм начинает заново сравнивать и обменивать элементы, исключая последний элемент, который уже упорядочен.\n",
    "\n",
    "Алгоритм продолжает выполнять проходы и обмены до тех пор, пока весь список не будет упорядочен."
   ]
  },
  {
   "cell_type": "code",
   "execution_count": null,
   "metadata": {},
   "outputs": [],
   "source": []
  },
  {
   "cell_type": "markdown",
   "metadata": {},
   "source": [
    "✅**В Python строки - это последовательности символов, которые можно использовать для представления текстовой информации. Строки в Python можно создавать с использованием одинарных или двойных кавычек, например:**"
   ]
  },
  {
   "cell_type": "code",
   "execution_count": null,
   "metadata": {},
   "outputs": [],
   "source": [
    "my_string = \"Привет, мир!\""
   ]
  },
  {
   "cell_type": "markdown",
   "metadata": {},
   "source": [
    "❔ Строки могут быть использованы для хранения и манипуляции текстовыми данными. Вот несколько основных операций и задач, связанных со строками в Python:\n",
    "\n",
    "✅ **Доступ к символам в строке:**\n",
    "Символы в строке нумеруются с 0. Для доступа к символу по индексу используйте квадратные скобки:"
   ]
  },
  {
   "cell_type": "code",
   "execution_count": null,
   "metadata": {},
   "outputs": [],
   "source": [
    "my_string = \"Hello, World!\"\n",
    "print(my_string[0])  # Вывод: \"H\""
   ]
  },
  {
   "cell_type": "markdown",
   "metadata": {},
   "source": [
    "✅ **Срезы строк:**\n",
    "С помощью срезов можно получить подстроку из строки. Срез определяется индексами начала и конца подстроки:"
   ]
  },
  {
   "cell_type": "code",
   "execution_count": null,
   "metadata": {},
   "outputs": [],
   "source": [
    "my_string = \"Hello, World!\"\n",
    "substring = my_string[7:12]  # Получить подстроку с 7-го по 11-й символы (включительно)\n",
    "print(substring)  # Вывод: \"World\""
   ]
  },
  {
   "cell_type": "markdown",
   "metadata": {},
   "source": [
    "✅ **Методы строк:**\n",
    "Python предоставляет множество методов для работы со строками, `upper()` преобразует строку в верхний регистр, `lower()` - в нижний регистр, `strip()` удаляет пробелы в начале и конце строки, `replace()` заменяет подстроки и другие методы для поиска и манипуляций со строками.\n",
    "\n",
    "🤔**Напишите программу, которая принимает строку, разделяет ее на слова и выводит их в обратном порядке, разделяя пробелами.**"
   ]
  },
  {
   "cell_type": "code",
   "execution_count": null,
   "metadata": {},
   "outputs": [],
   "source": [
    "input_string = \"Python is fun\"\n",
    "words = input_string.split()\n",
    "reversed_words = ' '.join(reversed(words))\n",
    "print(reversed_words)  # Вывод: \"fun is Python\""
   ]
  },
  {
   "cell_type": "markdown",
   "metadata": {},
   "source": [
    "✅ Функции строк:\n",
    "Python также предоставляет встроенные функции для работы со строками, такие как len(), которая возвращает длину строки.\n",
    "\n",
    "🤔**Напишите программу, которая принимает строку и выводит ее длину.**"
   ]
  },
  {
   "cell_type": "code",
   "execution_count": null,
   "metadata": {},
   "outputs": [],
   "source": [
    "input_string = \"Hello, World!\"\n",
    "length = len(input_string)\n",
    "print(\"Длина строки:\", length)  # Вывод: 13"
   ]
  },
  {
   "cell_type": "markdown",
   "metadata": {},
   "source": [
    "🤔**Напишите программу, которая принимает строку и подсчитывает количество гласных букв в ней (гласные: \"aeiouAEIOU\").**"
   ]
  },
  {
   "cell_type": "code",
   "execution_count": null,
   "metadata": {},
   "outputs": [],
   "source": []
  },
  {
   "cell_type": "markdown",
   "metadata": {},
   "source": [
    "🤔**Напишите программу, которая проверяет, является ли введенная строка палиндромом (читается одинаково слева направо и справа налево, игнорируя пробелы и регистр букв).**"
   ]
  },
  {
   "cell_type": "code",
   "execution_count": null,
   "metadata": {},
   "outputs": [],
   "source": []
  },
  {
   "cell_type": "markdown",
   "metadata": {},
   "source": [
    "✅ **В Python, список (list) - это упорядоченная коллекция элементов, которые могут быть любого типа данных (числа, строки, другие списки и т.д.). Списки объявляются с использованием квадратных скобок и элементы внутри списка разделяются запятыми. Вот некоторые основные аспекты работы со списками:**\n",
    "\n",
    "✅**Создание списка:**"
   ]
  },
  {
   "cell_type": "code",
   "execution_count": null,
   "metadata": {},
   "outputs": [],
   "source": [
    "my_list = [1, 2, 3, 4, 5]"
   ]
  },
  {
   "cell_type": "markdown",
   "metadata": {},
   "source": [
    "✅ **Доступ к элементам списка:**\n",
    "Списки индексируются с использованием целых чисел, начиная с 0. Это означает, что первый элемент имеет индекс 0, второй - индекс 1 и так далее."
   ]
  },
  {
   "cell_type": "code",
   "execution_count": null,
   "metadata": {},
   "outputs": [],
   "source": [
    "my_list = [10, 20, 30, 40, 50]\n",
    "first_element = my_list[0]  # Получить первый элемент (10)"
   ]
  },
  {
   "cell_type": "markdown",
   "metadata": {},
   "source": [
    "✅ **Изменение элементов списка:**\n",
    "Элементы списка можно изменять, просто присвоив им новое значение по индексу."
   ]
  },
  {
   "cell_type": "code",
   "execution_count": null,
   "metadata": {},
   "outputs": [],
   "source": [
    "my_list = [10, 20, 30, 40, 50]\n",
    "my_list[2] = 35  # Изменить третий элемент на 35"
   ]
  },
  {
   "cell_type": "markdown",
   "metadata": {},
   "source": [
    "✅ **Добавление и удаление элементов:**\n",
    "С помощью методов `append()` и `extend()` можно добавлять элементы в список. Метод `pop()` удаляет элемент по индексу."
   ]
  },
  {
   "cell_type": "code",
   "execution_count": null,
   "metadata": {},
   "outputs": [],
   "source": [
    "my_list = [1, 2, 3]\n",
    "my_list.append(4)  # Добавить 4 в конец списка\n",
    "my_list.extend([5, 6])  # Добавить элементы из другого списка\n",
    "my_list.pop(1)  # Удалить второй элемент (значение 2)"
   ]
  },
  {
   "cell_type": "markdown",
   "metadata": {},
   "source": [
    "🤔**Напишите программу, которая создает два списка: один с четными числами, а другой с нечетными числами из заданного списка.**"
   ]
  },
  {
   "cell_type": "code",
   "execution_count": null,
   "metadata": {},
   "outputs": [],
   "source": [
    "numbers = [1, 2, 3, 4, 5, 6, 7, 8, 9]\n",
    "even_numbers = [num for num in numbers if num % 2 == 0]\n",
    "odd_numbers = [num for num in numbers if num % 2 != 0]\n",
    "print(\"Список четных чисел:\", even_numbers)\n",
    "print(\"Список нечетных чисел:\", odd_numbers)"
   ]
  },
  {
   "cell_type": "markdown",
   "metadata": {},
   "source": [
    "🤔**Создайте список слов. Попросите пользователя ввести слово. Если слово есть в списке, удалите его. Выведите список после удаления.**"
   ]
  },
  {
   "cell_type": "code",
   "execution_count": null,
   "metadata": {},
   "outputs": [],
   "source": []
  },
  {
   "cell_type": "markdown",
   "metadata": {},
   "source": [
    "✅**Функции в Python - это блоки кода, которые могут быть вызваны и выполнять определенные действия. Функции являются основным механизмом организации и структурирования кода в Python.** Они позволяют создавать переиспользуемые блоки кода, что улучшает читаемость и обслуживаемость программ. Вот основные аспекты работы с функциями:\n",
    "\n",
    "✅**Создание функции:**\n",
    "Функции создаются с использованием ключевого слова def, за которым следует имя функции и круглые скобки с параметрами функции. Тело функции отделяется от остального кода с помощью отступов."
   ]
  },
  {
   "cell_type": "code",
   "execution_count": null,
   "metadata": {},
   "outputs": [],
   "source": [
    "def say_hello():\n",
    "    print(\"Привет, мир!\")"
   ]
  },
  {
   "cell_type": "markdown",
   "metadata": {},
   "source": [
    "✅**Вызов функции:**\n",
    "Функции вызываются по имени с использованием круглых скобок. Вы можете передать аргументы функции, которые могут быть использованы внутри функции."
   ]
  },
  {
   "cell_type": "code",
   "execution_count": null,
   "metadata": {},
   "outputs": [],
   "source": [
    "say_hello()  # Вызов функции"
   ]
  },
  {
   "cell_type": "markdown",
   "metadata": {},
   "source": [
    "✅**Возвращение значений:**\n",
    "Функции могут возвращать результат с помощью ключевого слова return. Это позволяет использовать результат выполнения функции в другой части программы."
   ]
  },
  {
   "cell_type": "code",
   "execution_count": null,
   "metadata": {},
   "outputs": [],
   "source": [
    "def add_numbers(a, b):\n",
    "    return a + b\n",
    "result = add_numbers(3, 4)  # result будет равен 7"
   ]
  },
  {
   "cell_type": "markdown",
   "metadata": {},
   "source": [
    "✅**Параметры и аргументы:**\n",
    "Параметры - это переменные, указанные в определении функции. Аргументы - это значения, переданные в функцию при ее вызове. Функция может иметь как обязательные, так и необязательные параметры."
   ]
  },
  {
   "cell_type": "code",
   "execution_count": null,
   "metadata": {},
   "outputs": [],
   "source": [
    "def greet(name):\n",
    "    print(f\"Привет, {name}!\")\n",
    "greet(\"Анна\")  # \"Анна\" - аргумент"
   ]
  },
  {
   "cell_type": "markdown",
   "metadata": {},
   "source": [
    "🤔**Поиск максимума:\n",
    "Напишите функцию, которая принимает список чисел и возвращает максимальное значение.**"
   ]
  },
  {
   "cell_type": "code",
   "execution_count": null,
   "metadata": {},
   "outputs": [],
   "source": []
  },
  {
   "cell_type": "markdown",
   "metadata": {},
   "source": [
    "🤔**Факториал числа:\n",
    "Напишите функцию для вычисления факториала числа (произведение всех целых чисел от 1 до n).**"
   ]
  },
  {
   "cell_type": "code",
   "execution_count": null,
   "metadata": {},
   "outputs": [],
   "source": []
  }
 ],
 "metadata": {
  "kernelspec": {
   "display_name": "Python 3",
   "language": "python",
   "name": "python3"
  },
  "language_info": {
   "codemirror_mode": {
    "name": "ipython",
    "version": 3
   },
   "file_extension": ".py",
   "mimetype": "text/x-python",
   "name": "python",
   "nbconvert_exporter": "python",
   "pygments_lexer": "ipython3",
   "version": "3.11.2"
  }
 },
 "nbformat": 4,
 "nbformat_minor": 2
}
