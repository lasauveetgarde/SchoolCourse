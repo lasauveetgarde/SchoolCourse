{
 "cells": [
  {
   "cell_type": "code",
   "execution_count": 1,
   "metadata": {},
   "outputs": [],
   "source": [
    "import cv2\n",
    "import numpy as np"
   ]
  },
  {
   "cell_type": "markdown",
   "metadata": {},
   "source": [
    "`cv2.imread` - это функция в библиотеке OpenCV (Open Source Computer Vision Library), используемая для чтения изображения с компьютера и загрузки его в виде многомерного массива (матрицы) в приложение. Эта функция позволяет анализировать изображения и выполнять на них различные операции в рамках обработки изображений и компьютерного зрения.\n",
    "\n",
    "Вот основная информация о функции `cv2.imread`:\n",
    "\n",
    "```\n",
    "image = cv2.imread(filename, flags)\n",
    "\n",
    "```\n",
    "\n",
    "- `filename`: Это строка, представляющая путь к изображению на компьютере.\n",
    "- `flags` (необязательный): Этот аргумент определяет режим чтения изображения. Он может принимать различные значения, такие как cv2.IMREAD_COLOR, cv2.IMREAD_GRAYSCALE, cv2.IMREAD_UNCHANGED, и другие. По умолчанию, используется cv2.IMREAD_COLOR, что означает чтение изображения в цвете.\n",
    "\n",
    "`imshow` - это функция в библиотеке OpenCV (Open Source Computer Vision Library), предназначенная для отображения изображений на экране компьютера. Она часто используется в контексте обработки изображений и компьютерного зрения для отладки и визуализации результатов.\n",
    "\n",
    "Вот основная информация о функции `imshow`:\n",
    "\n",
    "```\n",
    "cv2.imshow(winname, mat)\n",
    "```\n",
    "\n",
    "- `winname`: Это строка, которая задает имя окна, в котором будет отображено изображение. Окно будет создано, если оно не существует. Если окно с таким именем уже существует, оно будет обновлено новым изображением.\n",
    "- `mat`: Это изображение (матрица) в формате, который поддерживается OpenCV, и которое вы хотите отобразить.\n",
    "\n",
    "`cv2.waitKey` - это функция в библиотеке OpenCV (Open Source Computer Vision Library), которая позволяет ожидать нажатия клавиши в течение определенного времени. Эта функция часто используется для создания пауз в выполнении программы, чтобы пользователь мог взаимодействовать с отображаемыми изображениями или окнами.\n",
    "\n",
    "Вот основная информация о функции `cv2.waitKey`:\n",
    "\n",
    "Синтаксис:\n",
    "\n",
    "```\n",
    "retval = cv2.waitKey(delay)\n",
    "```\n",
    "\n",
    "- `delay`: Это количество миллисекунд, в течение которого функция будет ожидать нажатия клавиши. Если delay равно 0, функция будет ожидать бесконечно, пока не будет нажата клавиша. Если delay больше 0, функция будет ожидать указанное количество миллисекунд, а затем вернет -1, если клавиша не была нажата.\n",
    "Возвращаемое значение:\n",
    "- `retval`: Это код клавиши, которая была нажата, или -1, если ни одна клавиша не была нажата в течение времени, указанного в delay."
   ]
  },
  {
   "cell_type": "code",
   "execution_count": 2,
   "metadata": {},
   "outputs": [],
   "source": [
    "img = cv2.imread('assets/opencv_logo.png', cv2.IMREAD_COLOR)\n",
    "cv2.imshow(\"image\", img)\n",
    "cv2.waitKey(0)\n",
    "cv2.destroyAllWindows()"
   ]
  },
  {
   "cell_type": "code",
   "execution_count": 2,
   "metadata": {},
   "outputs": [],
   "source": [
    "img = cv2.imread('assets/opencv_logo.png', cv2.IMREAD_COLOR)\n",
    "cv2.imshow(\"image\", img)\n",
    "cv2.waitKey(5000)\n",
    "cv2.destroyAllWindows()"
   ]
  },
  {
   "cell_type": "markdown",
   "metadata": {},
   "source": [
    "Код клавиши, который возвращает `cv2.waitKey`, обычно представлен в формате ASCII. Поэтому для сравнения с определенными клавишами, вы можете использовать функцию `ord()` для получения числового кода ASCII нужной клавиши."
   ]
  },
  {
   "cell_type": "code",
   "execution_count": 3,
   "metadata": {},
   "outputs": [],
   "source": [
    "img = cv2.imread('assets/opencv_logo.png', cv2.IMREAD_COLOR)\n",
    "cv2.imshow(\"image\", img)\n",
    "k = cv2.waitKey(0)\n",
    "if k == ord('q'):        # wait for ESC key to exit\n",
    "    cv2.destroyAllWindows()"
   ]
  },
  {
   "cell_type": "markdown",
   "metadata": {},
   "source": [
    "Для создания цветного изображения в OpenCV с использованием библиотеки NumPy, вы можете создать многомерный массив NumPy, представляющий изображение, и заполнить его данными о цветах. Цветное изображение обычно имеет три канала: красный (R), зеленый (G) и синий (B). Каждый канал представляется двумерным массивом (матрицей) значений от 0 до 255.\n",
    "\n",
    "Вот пример, как создать красное цветное изображение 100x100 пикселей:"
   ]
  },
  {
   "cell_type": "code",
   "execution_count": 7,
   "metadata": {},
   "outputs": [],
   "source": [
    "height, width = 100, 100\n",
    "image = np.zeros((height, width, 3), dtype=np.uint8)\n",
    "\n",
    "image[:, :, 2] = 255  # Красный канал (R) - третий канал (индекс 2)\n",
    "\n",
    "cv2.imshow('Red Image', image)\n",
    "cv2.waitKey(0)\n",
    "cv2.destroyAllWindows()"
   ]
  },
  {
   "cell_type": "markdown",
   "metadata": {},
   "source": [
    "В этом примере:\n",
    "\n",
    "- Мы создаем пустое черное изображение размером 100x100 пикселей с тремя каналами (RGB) с помощью np.zeros.\n",
    "- Заполняем красный канал (канал с индексом 2) значением 255, делая все пиксели красными.\n",
    "- Отображаем созданное изображение с помощью `cv2.imshow`.\n",
    "\n",
    "Вы можете изменить цвет и размер изображения, изменяя значения пикселей в соответствующих каналах (R, G, B) и размере массива. Этот пример позволяет вам создавать цветные изображения с произвольными цветами и содержанием, в зависимости от ваших потребностей."
   ]
  },
  {
   "cell_type": "markdown",
   "metadata": {},
   "source": [
    "OpenCV предоставляет несколько функций для рисования геометрических фигур и текста на изображениях. Вот некоторые из основных функций для рисования:\n",
    "\n",
    "`cv2.line()` - Рисование линии:\n",
    "\n",
    "```\n",
    "cv2.line(image, pt1, pt2, color, thickness)\n",
    "```\n",
    "\n",
    "`cv2.rectangle()` - Рисование прямоугольника:\n",
    "\n",
    "```\n",
    "cv2.rectangle(image, pt1, pt2, color, thickness)\n",
    "```\n",
    "\n",
    "`cv2.circle()` - Рисование круга:\n",
    "\n",
    "```\n",
    "cv2.circle(image, center, radius, color, thickness)\n",
    "```\n",
    "\n",
    "`cv2.ellipse()` - Рисование эллипса:\n",
    "\n",
    "```\n",
    "cv2.ellipse(image, center, axes, angle, startAngle, endAngle, color, thickness)\n",
    "```\n",
    "\n",
    "`cv2.polylines()` - Рисование полилинии (многогранника):\n",
    "\n",
    "```\n",
    "cv2.polylines(image, pts, isClosed, color, thickness)\n",
    "```\n",
    "\n",
    "`cv2.fillPoly()` - Закрашивание полигона:\n",
    "\n",
    "```\n",
    "cv2.fillPoly(image, pts, color)\n",
    "```\n",
    "\n",
    "`cv2.putText()` - Вставка текста:\n",
    "\n",
    "```\n",
    "cv2.putText(image, text, org, fontFace, fontScale, color, thickness, lineType)\n",
    "```\n",
    "\n",
    "В этом случае, `text` - это строка с текстом, `org`- координаты верхнего левого угла текста."
   ]
  },
  {
   "cell_type": "code",
   "execution_count": 8,
   "metadata": {},
   "outputs": [],
   "source": [
    "# Создаем пустое изображение\n",
    "image = np.zeros((400, 400, 3), dtype=np.uint8)\n",
    "\n",
    "# Рисуем красную линию\n",
    "cv2.line(image, (100, 100), (300, 100), (0, 0, 255), 2)\n",
    "\n",
    "# Рисуем синий прямоугольник\n",
    "cv2.rectangle(image, (50, 150), (250, 300), (255, 0, 0), -1)  # -1 для заполнения\n",
    "\n",
    "# Рисуем зеленый круг\n",
    "cv2.circle(image, (200, 200), 50, (0, 255, 0), 3)\n",
    "\n",
    "# Рисуем текст\n",
    "cv2.putText(image, 'OpenCV', (10, 30), cv2.FONT_HERSHEY_SIMPLEX, 1, (255, 255, 255), 2, cv2.LINE_AA)\n",
    "\n",
    "cv2.imshow('Drawing', image)\n",
    "cv2.waitKey(0)\n",
    "cv2.destroyAllWindows()"
   ]
  },
  {
   "cell_type": "markdown",
   "metadata": {},
   "source": [
    "🤔 **Используя любое изображение. Напишите программу, которая будет выводить изображение на экран следующим образом:** \n",
    "- в цвете в полном размере на 5 секунд, затем закрыть;\n",
    "- в оттенках серого в полном размере на 7 секунд, затем закрыть;\n",
    "- в цвете в 2 раза меньше, чем исходный размер, на 9 секунд, затем закрыть;\n",
    "- в оттенках серого в 4 раза меньше, чем исходный размер, на 11 секунд, затем закрыть."
   ]
  },
  {
   "cell_type": "code",
   "execution_count": null,
   "metadata": {},
   "outputs": [],
   "source": []
  },
  {
   "cell_type": "markdown",
   "metadata": {},
   "source": [
    "🤔 **С помощью средств библиотек OpenCV и NumPy создайте изображение. На белом фоне нарисуйте:**\n",
    "\n",
    "<p align=\"center\">\n",
    "    <img src=\"assets/lesson1_task02.png\" width=500/>\n",
    "</p>\n"
   ]
  },
  {
   "cell_type": "code",
   "execution_count": null,
   "metadata": {},
   "outputs": [],
   "source": []
  },
  {
   "cell_type": "markdown",
   "metadata": {},
   "source": [
    "🤔 **Возьмите любое цветное изображение и представьте его в оттенках серого размера, уменьшенного в 4 раза. По нажатию на клавишу «s» должно выполняться сохранение нового изображения в формате .png, а по нажатию на клавишу «m» -закрытие всех окон**\n",
    "\n",
    "❔❔ ❔ \n",
    "Сохранение изображений в OpenCV выполняется с использованием функции `cv2.imwrite()`. Эта функция позволяет вам сохранить изображение в файле с заданным именем и форматом. Вот как это делается:\n",
    "\n",
    "```\n",
    "import cv2\n",
    "image = cv2.imread('image.jpg')\n",
    "cv2.imwrite('saved_image.jpg', image)\n",
    "```\n",
    "\n",
    "В этом примере мы загрузили изображение `image.jpg` с помощью `cv2.imread` и затем сохранили его в файл `saved_image.jpg` с помощью `cv2.imwrite`. Формат файла автоматически определяется по расширению имени файла, но вы также можете явно указать формат с помощью второго аргумента `cv2.imwrite`."
   ]
  },
  {
   "cell_type": "code",
   "execution_count": 2,
   "metadata": {},
   "outputs": [],
   "source": []
  },
  {
   "cell_type": "markdown",
   "metadata": {},
   "source": [
    "🤔 **С помощью средств библиотек OpenCV и NumPy создайте изображение шахматной доски шириной в 5 клетки и длиной в 5 клеток. Пусть верхний левый квадрат будет фиолетовым, а его сосед справа - белым. Дальше чередуйте эти цвета в шахматном порядке. Сохраните его на компьютере (с помощью imwrite)**"
   ]
  },
  {
   "cell_type": "code",
   "execution_count": null,
   "metadata": {},
   "outputs": [],
   "source": []
  },
  {
   "cell_type": "markdown",
   "metadata": {},
   "source": [
    "OpenCV предоставляет несколько функций сглаживания (сглаживания изображений) для обработки изображений и уменьшения шума. Сглаживание может быть полезным для устранения мелких деталей и шумов с изображений. Вот некоторые из основных функций сглаживания в OpenCV:\n",
    "\n",
    "`cv2.GaussianBlur()` - Гауссовское сглаживание:\n",
    "\n",
    "```\n",
    "cv2.GaussianBlur(src, ksize, sigmaX)\n",
    "```\n",
    "- src: Исходное изображение.\n",
    "- ksize: Размер ядра фильтра (должен быть нечетным).\n",
    "- sigmaX: Стандартное отклонение Гауссовой функции.\n",
    "\n",
    "`cv2.blur()` или `cv2.boxFilter()` - Сглаживание средним значением:\n",
    "\n",
    "```\n",
    "cv2.blur(src, ksize)\n",
    "```\n",
    "- src: Исходное изображение.\n",
    "- ksize: Размер окна для усреднения.\n",
    "\n",
    "`cv2.medianBlur()` - Медианное сглаживание:\n",
    "\n",
    "```\n",
    "cv2.medianBlur(src, ksize)\n",
    "```\n",
    "- src: Исходное изображение.\n",
    "- ksize: Размер окна для усреднения.\n",
    "\n",
    "`cv2.bilateralFilter()` - Фильтр двустороннего сглаживания:\n",
    "\n",
    "```\n",
    "cv2.bilateralFilter(src, d, sigmaColor, sigmaSpace)\n",
    "```\n",
    "\n",
    "- src: Исходное изображение.\n",
    "- d: Диаметр каждого пикселя, учитываемого в фильтре.\n",
    "- sigmaColor: Стандартное отклонение цветового пространства.\n",
    "- sigmaSpace: Стандартное отклонение координатного пространства."
   ]
  },
  {
   "cell_type": "markdown",
   "metadata": {},
   "source": [
    "🤔 **Используя известные Вам фильтры, избавиться от черных точек на изображении**\n",
    "\n",
    "<p align=\"center\">\n",
    "    <img src=\"assets/lesson1_task05.png\" width=500/>\n",
    "</p>"
   ]
  },
  {
   "cell_type": "code",
   "execution_count": null,
   "metadata": {},
   "outputs": [],
   "source": []
  },
  {
   "cell_type": "markdown",
   "metadata": {},
   "source": [
    "🤔 **Используя известные Вам фильтры, добиться четкости изображения**\n",
    "\n",
    "<p align=\"center\">\n",
    "    <img src=\"assets/lesson1_task06.png\" width=500/>\n",
    "</p>"
   ]
  },
  {
   "cell_type": "code",
   "execution_count": null,
   "metadata": {},
   "outputs": [],
   "source": []
  },
  {
   "cell_type": "markdown",
   "metadata": {},
   "source": [
    "🤔 **Используя известные Вам фильтры, очистить изображение от белых точек**\n",
    "\n",
    "<p align=\"center\">\n",
    "    <img src=\"assets/lesson1_task07.png\" width=500/>\n",
    "</p>"
   ]
  },
  {
   "cell_type": "code",
   "execution_count": null,
   "metadata": {},
   "outputs": [],
   "source": []
  }
 ],
 "metadata": {
  "kernelspec": {
   "display_name": "Python 3",
   "language": "python",
   "name": "python3"
  },
  "language_info": {
   "codemirror_mode": {
    "name": "ipython",
    "version": 3
   },
   "file_extension": ".py",
   "mimetype": "text/x-python",
   "name": "python",
   "nbconvert_exporter": "python",
   "pygments_lexer": "ipython3",
   "version": "3.11.2"
  }
 },
 "nbformat": 4,
 "nbformat_minor": 2
}
